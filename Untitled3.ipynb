{
  "nbformat": 4,
  "nbformat_minor": 0,
  "metadata": {
    "colab": {
      "name": "Untitled3.ipynb",
      "provenance": [],
      "authorship_tag": "ABX9TyPzvtpnDDG9sFWOcDLj3jXd",
      "include_colab_link": true
    },
    "kernelspec": {
      "name": "python3",
      "display_name": "Python 3"
    },
    "language_info": {
      "name": "python"
    }
  },
  "cells": [
    {
      "cell_type": "markdown",
      "metadata": {
        "id": "view-in-github",
        "colab_type": "text"
      },
      "source": [
        "<a href=\"https://colab.research.google.com/github/Ashokkumar12345667/ashokkumar/blob/main/Untitled3.ipynb\" target=\"_parent\"><img src=\"https://colab.research.google.com/assets/colab-badge.svg\" alt=\"Open In Colab\"/></a>"
      ]
    },
    {
      "cell_type": "code",
      "metadata": {
        "colab": {
          "base_uri": "https://localhost:8080/"
        },
        "id": "iYr2_9NQPJ-I",
        "outputId": "79850f9e-3769-4fd0-97cd-0b47103f7d5e"
      },
      "source": [
        "P = int(input(\"enter the principle value:\"))\n",
        "R = int(input(\"enter the rate value:\"))\n",
        "T = int(input(\"enter the year:\"))\n",
        "# simple interest\n",
        "SI = (P * R * T) / 100\n",
        "print(\"simple interest is\", SI)"
      ],
      "execution_count": 1,
      "outputs": [
        {
          "output_type": "stream",
          "text": [
            "enter the principle value:1400\n",
            "enter the rate value:555\n",
            "enter the year:55\n",
            "simple interest is 427350.0\n"
          ],
          "name": "stdout"
        }
      ]
    }
  ]
}