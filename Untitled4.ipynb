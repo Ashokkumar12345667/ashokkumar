{
  "nbformat": 4,
  "nbformat_minor": 0,
  "metadata": {
    "colab": {
      "name": "Untitled4.ipynb",
      "provenance": [],
      "authorship_tag": "ABX9TyNDjcvlBa9aIrY53xW7t6YM",
      "include_colab_link": true
    },
    "kernelspec": {
      "name": "python3",
      "display_name": "Python 3"
    },
    "language_info": {
      "name": "python"
    }
  },
  "cells": [
    {
      "cell_type": "markdown",
      "metadata": {
        "id": "view-in-github",
        "colab_type": "text"
      },
      "source": [
        "<a href=\"https://colab.research.google.com/github/Ashokkumar12345667/ashokkumar/blob/main/Untitled4.ipynb\" target=\"_parent\"><img src=\"https://colab.research.google.com/assets/colab-badge.svg\" alt=\"Open In Colab\"/></a>"
      ]
    },
    {
      "cell_type": "code",
      "metadata": {
        "colab": {
          "base_uri": "https://localhost:8080/"
        },
        "id": "4FGZgtxnPb7q",
        "outputId": "96e2e9c1-a4b8-42ee-888f-adf4a80f1417"
      },
      "source": [
        "name=str(input(\"Enter the string:\"))\n",
        "print(\"reverse the string is:\",name[::-1])"
      ],
      "execution_count": 1,
      "outputs": [
        {
          "output_type": "stream",
          "text": [
            "Enter the string:Hi\n",
            "reverse the string is: iH\n"
          ],
          "name": "stdout"
        }
      ]
    }
  ]
}