{
  "nbformat": 4,
  "nbformat_minor": 0,
  "metadata": {
    "colab": {
      "name": "Untitled0.ipynb",
      "provenance": [],
      "authorship_tag": "ABX9TyOWca3f/cUntqBuNRDmogwd",
      "include_colab_link": true
    },
    "kernelspec": {
      "name": "python3",
      "display_name": "Python 3"
    },
    "language_info": {
      "name": "python"
    }
  },
  "cells": [
    {
      "cell_type": "markdown",
      "metadata": {
        "id": "view-in-github",
        "colab_type": "text"
      },
      "source": [
        "<a href=\"https://colab.research.google.com/github/Ashokkumar12345667/ashokkumar/blob/main/Untitled0.ipynb\" target=\"_parent\"><img src=\"https://colab.research.google.com/assets/colab-badge.svg\" alt=\"Open In Colab\"/></a>"
      ]
    },
    {
      "cell_type": "code",
      "metadata": {
        "colab": {
          "base_uri": "https://localhost:8080/"
        },
        "id": "zVxZ_2OH4JGe",
        "outputId": "a6aba71b-22c8-485b-956a-8a9efeff5881"
      },
      "source": [
        "a=int(input(\"enter a number A:\"))\n",
        "b=int(input(\"enter a number B:\"))\n",
        "print(\"Addition=\",a+b)\n",
        "print(\"Subtraction=\",a-b)\n",
        "print(\"Multiplication=\",a*b)\n",
        "print(\"Exponent=\",a**b)\n",
        "print(\"Floor Division=\",a//b)"
      ],
      "execution_count": 1,
      "outputs": [
        {
          "output_type": "stream",
          "text": [
            "enter a number A:25\n",
            "enter a number B:50\n",
            "Addition= 75\n",
            "Subtraction= -25\n",
            "Multiplication= 1250\n",
            "Exponent= 7888609052210118054117285652827862296732064351090230047702789306640625\n",
            "Floor Division= 0\n"
          ],
          "name": "stdout"
        }
      ]
    }
  ]
}