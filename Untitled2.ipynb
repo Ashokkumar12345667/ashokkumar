{
  "nbformat": 4,
  "nbformat_minor": 0,
  "metadata": {
    "colab": {
      "name": "Untitled2.ipynb",
      "provenance": [],
      "authorship_tag": "ABX9TyNTUtX12px06eJHjhlt0LJW",
      "include_colab_link": true
    },
    "kernelspec": {
      "name": "python3",
      "display_name": "Python 3"
    },
    "language_info": {
      "name": "python"
    }
  },
  "cells": [
    {
      "cell_type": "markdown",
      "metadata": {
        "id": "view-in-github",
        "colab_type": "text"
      },
      "source": [
        "<a href=\"https://colab.research.google.com/github/Ashokkumar12345667/ashokkumar/blob/main/Untitled2.ipynb\" target=\"_parent\"><img src=\"https://colab.research.google.com/assets/colab-badge.svg\" alt=\"Open In Colab\"/></a>"
      ]
    },
    {
      "cell_type": "code",
      "metadata": {
        "colab": {
          "base_uri": "https://localhost:8080/"
        },
        "id": "Y0TxasLpOkjm",
        "outputId": "2897c756-7f22-4264-98ba-3bead55bde5a"
      },
      "source": [
        "name=str(input(\"Enter the name:\"))\n",
        "age=int(input(\"Enter the age:\"))\n",
        "address=str(input(\"Enter the address:\"))\n",
        "salary=int(input(\"Enter the salary:\"))\n",
        "number=int(input(\"Enter the number:\"))\n",
        "print(\"NAME:\",name)\n",
        "print(\"AGE:\",age)\n",
        "print(\"ADDRESS:\",address)\n",
        "print(\"SALARY:\",salary)\n",
        "print(\"NUMBER\",number)"
      ],
      "execution_count": 1,
      "outputs": [
        {
          "output_type": "stream",
          "text": [
            "Enter the name:Ak\n",
            "Enter the age:18\n",
            "Enter the address:Xx\n",
            "Enter the salary:00000\n",
            "Enter the number:93985658\n",
            "NAME: Ak\n",
            "AGE: 18\n",
            "ADDRESS: Xx\n",
            "SALARY: 0\n",
            "NUMBER 93985658\n"
          ],
          "name": "stdout"
        }
      ]
    }
  ]
}